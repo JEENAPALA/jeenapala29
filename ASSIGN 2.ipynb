{
  "nbformat": 4,
  "nbformat_minor": 0,
  "metadata": {
    "colab": {
      "name": "Untitled3.ipynb",
      "provenance": [],
      "collapsed_sections": []
    },
    "kernelspec": {
      "name": "python3",
      "display_name": "Python 3"
    }
  },
  "cells": [
    {
      "cell_type": "code",
      "metadata": {
        "id": "nCPhVYjXKUhP",
        "colab_type": "code",
        "colab": {}
      },
      "source": [
        "#ASSIGNMENT 2 JEENA PALA\n",
        "\n",
        "\n",
        "import numpy as np\n",
        "import matplotlib.image as mpimg\n",
        "import matplotlib.pyplot as plt\n",
        "import os \n",
        "import sys\n",
        "import cv2\n",
        "\n",
        "def initBackground(initImage)\n",
        "img_arr=cv2.imread(initImage)\n",
        "mean=img_arr\n",
        "variance=9*np.ones(img_arr.shape)\n",
        "return(mean,variance)"
      ],
      "execution_count": null,
      "outputs": []
    },
    {
      "cell_type": "code",
      "metadata": {
        "id": "9a08vD_RobdI",
        "colab_type": "code",
        "colab": {}
      },
      "source": [
        "def ForegroundDetection(img_file,mean,variance,lmda):\n",
        "  img=cv2.imread(img_file)\n",
        "  d=img-mean\n",
        "  y=variance*(lmda**2)\n",
        "  d_2=np.square(d)\n",
        "  I=d_2-y\n",
        "  mask=np.all(I>0,axis=2)\n",
        "  rI=255*mask.astype(int)\n",
        "  rI=rI.astype(np.unit8)\n",
        "  return(rI)"
      ],
      "execution_count": null,
      "outputs": []
    },
    {
      "cell_type": "code",
      "metadata": {
        "id": "PwZRfYJzpdH9",
        "colab_type": "code",
        "colab": {}
      },
      "source": [
        "def Voting(rI,eta,m,n):\n",
        "  r,c=rI.shape\n",
        "  cI=np.zeros((rI.shape[0],rI.shape[1]))\n",
        "  for i in range(m,r-1-m):\n",
        "    for j in range(n,c-1-n)\n",
        "    img_patch=rI[i-m:i,j-n:j]\n",
        "    y_unq,counts=np.unique(img_patch,return_counts=True)\n",
        "    if len(counts)==1 and y_unq[0]==1:\n",
        "      cI[i,j]=255\n",
        "      if len(counts)>1:\n",
        "        if counts[1]>eta*m*n:\n",
        "          cI[i,j]=255\n",
        "          cI=cI.astype(np.unit8)\n",
        "          return cI"
      ],
      "execution_count": null,
      "outputs": []
    },
    {
      "cell_type": "code",
      "metadata": {
        "id": "LD9X2O4jrXsG",
        "colab_type": "code",
        "colab": {}
      },
      "source": [
        "def meanvarUpdate(cI,img_path,M,V,alpha)\n",
        "img=cv2.imread(img_path)\n",
        "mean_upd=np.zeros(img.shape)\n",
        "var_upd=np.zeros(img.shape)\n",
        "d_2=np.square(d)\n",
        "for i in range(cI.shape[0]):\n",
        "  for j in range(cI.shape[1])\n",
        "  if cI[i,j]==0:\n",
        "    mean_upd[i,j,:]=(1-alpha)*M[i,j,:] + alpha*img[i,j,:]\n",
        "    var_upd[i,j,:]=(1-alpha)*(V[i,j,:]) + alpha*d_2[i,j,:]\n",
        "    var_upd[i,j,:]=np.clip(var_upd[i,j,:],a_min=9,a_max=None)\n",
        "    return(mean_upd,var_upd)"
      ],
      "execution_count": null,
      "outputs": []
    },
    {
      "cell_type": "code",
      "metadata": {
        "id": "YP_o6Tw6t1-y",
        "colab_type": "code",
        "colab": {}
      },
      "source": [
        "def Background_Subtraction(img_dir,lmda,eta,m,n,alpha):\n",
        "  img_file_name=os.listdir(img_dir)\n",
        "  initImage=os.path.join(img_dir,img_file_name[0])\n",
        "  mean,variance=initBackground(initImage)\n",
        "\n",
        "  for i in range(1,19):\n",
        "  img_path=os.path.join(img_dir,img_file_name[i])\n",
        "   fix,ax=plt.subplots(1,3,figsize=(10,10))\n",
        "   rI=ForegroundDetection(img_path,mean,variance,lmda)\n",
        "   ax[0].imshow(rI,cmap=\"gray\")\n",
        "\n",
        "   cI=voting(rI,eta,m,n)\n",
        "   mean,variance=meanvarUpdate(cI,img_path,mean,variance,alpha)\n",
        "   ax[1].imshow(cI,cmap=\"gray\")\n",
        "\n",
        "  img=cv2.imread(img_path)\n",
        "  ax[2].imshow(img,cmap=\"gray\")\n",
        "  plt.show()\n",
        "  return(mean,variance)"
      ],
      "execution_count": null,
      "outputs": []
    },
    {
      "cell_type": "code",
      "metadata": {
        "id": "e_F_9L85wK-b",
        "colab_type": "code",
        "colab": {}
      },
      "source": [
        "\n",
        "v=[i for i in np.arange(0.70,0.90,0.02)]\n",
        "t=[i for i in np.arange(0.07,0.09,0.02)]\n",
        "for eta in v:\n",
        "  for lmda in t:\n",
        "    print(\"using lamda as{} and eta as {}\".format(lmda,eta))\n",
        "    mean,variance=Background_Subtraction(\"/content/drive/My Drive/Images\",lmda,eta,8,8,0.8)\n",
        "    print(\"\\n\")"
      ],
      "execution_count": null,
      "outputs": []
    }
  ]
}